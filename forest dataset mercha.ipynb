{
 "cells": [
  {
   "cell_type": "code",
   "execution_count": 1,
   "id": "4c5eed6e",
   "metadata": {
    "_cell_guid": "b1076dfc-b9ad-4769-8c92-a6c4dae69d19",
    "_uuid": "8f2839f25d086af736a60e9eeb907d3b93b6e0e5",
    "execution": {
     "iopub.execute_input": "2023-02-16T03:52:05.236500Z",
     "iopub.status.busy": "2023-02-16T03:52:05.235734Z",
     "iopub.status.idle": "2023-02-16T03:52:06.901109Z",
     "shell.execute_reply": "2023-02-16T03:52:06.899922Z"
    },
    "papermill": {
     "duration": 1.679968,
     "end_time": "2023-02-16T03:52:06.904091",
     "exception": false,
     "start_time": "2023-02-16T03:52:05.224123",
     "status": "completed"
    },
    "tags": []
   },
   "outputs": [],
   "source": [
    "import numpy as np\n",
    "import os\n",
    "import pandas as pd\n",
    "import matplotlib.pyplot as plt\n",
    "import seaborn as sns\n",
    "import warnings\n",
    "\n",
    "from sklearn.model_selection import train_test_split\n",
    "from sklearn.ensemble import RandomForestClassifier\n",
    "from sklearn.preprocessing import LabelEncoder\n",
    "from sklearn import metrics\n",
    "from sklearn.metrics import plot_confusion_matrix\n",
    "\n",
    "from imblearn.over_sampling import SMOTE\n",
    "from imblearn.over_sampling import RandomOverSampler\n",
    "from imblearn.under_sampling import RandomUnderSampler\n",
    "\n",
    "\n",
    "warnings.filterwarnings(\"ignore\")\n",
    "        \n",
    "#/kaggle/input/data-set-merchandise/DataSetMerchandise.csv\n",
    "\n",
    "# You can write up to 20GB to the current directory (/kaggle/working/) that gets preserved as output when you create a version using \"Save & Run All\" \n",
    "# You can also write temporary files to /kaggle/temp/, but they won't be saved outside of the current session"
   ]
  },
  {
   "cell_type": "code",
   "execution_count": 2,
   "id": "559a6703",
   "metadata": {
    "execution": {
     "iopub.execute_input": "2023-02-16T03:52:06.923429Z",
     "iopub.status.busy": "2023-02-16T03:52:06.922201Z",
     "iopub.status.idle": "2023-02-16T03:52:08.377902Z",
     "shell.execute_reply": "2023-02-16T03:52:08.376389Z"
    },
    "papermill": {
     "duration": 1.468527,
     "end_time": "2023-02-16T03:52:08.381194",
     "exception": false,
     "start_time": "2023-02-16T03:52:06.912667",
     "status": "completed"
    },
    "tags": []
   },
   "outputs": [],
   "source": [
    "df= pd.read_csv('/kaggle/input/data-set-merchandise/DataSetMerchandise.csv')"
   ]
  },
  {
   "cell_type": "code",
   "execution_count": 3,
   "id": "545bdd11",
   "metadata": {
    "execution": {
     "iopub.execute_input": "2023-02-16T03:52:08.400251Z",
     "iopub.status.busy": "2023-02-16T03:52:08.399743Z",
     "iopub.status.idle": "2023-02-16T03:52:08.430456Z",
     "shell.execute_reply": "2023-02-16T03:52:08.429167Z"
    },
    "papermill": {
     "duration": 0.044359,
     "end_time": "2023-02-16T03:52:08.434171",
     "exception": false,
     "start_time": "2023-02-16T03:52:08.389812",
     "status": "completed"
    },
    "tags": []
   },
   "outputs": [
    {
     "data": {
      "text/html": [
       "<div>\n",
       "<style scoped>\n",
       "    .dataframe tbody tr th:only-of-type {\n",
       "        vertical-align: middle;\n",
       "    }\n",
       "\n",
       "    .dataframe tbody tr th {\n",
       "        vertical-align: top;\n",
       "    }\n",
       "\n",
       "    .dataframe thead th {\n",
       "        text-align: right;\n",
       "    }\n",
       "</style>\n",
       "<table border=\"1\" class=\"dataframe\">\n",
       "  <thead>\n",
       "    <tr style=\"text-align: right;\">\n",
       "      <th></th>\n",
       "      <th>fullVisitorID</th>\n",
       "      <th>visitNumber</th>\n",
       "      <th>date</th>\n",
       "      <th>bounces</th>\n",
       "      <th>hits</th>\n",
       "      <th>pageviews</th>\n",
       "      <th>timeOnSite</th>\n",
       "      <th>transactionRevenue</th>\n",
       "      <th>transactions</th>\n",
       "      <th>source</th>\n",
       "      <th>channelGrouping</th>\n",
       "      <th>browser</th>\n",
       "      <th>deviceCategory</th>\n",
       "      <th>country</th>\n",
       "      <th>city</th>\n",
       "    </tr>\n",
       "  </thead>\n",
       "  <tbody>\n",
       "    <tr>\n",
       "      <th>0</th>\n",
       "      <td>8533875475515924645</td>\n",
       "      <td>1</td>\n",
       "      <td>20170205</td>\n",
       "      <td>1.0</td>\n",
       "      <td>1</td>\n",
       "      <td>1.0</td>\n",
       "      <td>NaN</td>\n",
       "      <td>NaN</td>\n",
       "      <td>NaN</td>\n",
       "      <td>(direct)</td>\n",
       "      <td>Organic Search</td>\n",
       "      <td>Chrome</td>\n",
       "      <td>desktop</td>\n",
       "      <td>Australia</td>\n",
       "      <td>Sydney</td>\n",
       "    </tr>\n",
       "    <tr>\n",
       "      <th>1</th>\n",
       "      <td>4874599869430831185</td>\n",
       "      <td>2</td>\n",
       "      <td>20170205</td>\n",
       "      <td>1.0</td>\n",
       "      <td>1</td>\n",
       "      <td>1.0</td>\n",
       "      <td>NaN</td>\n",
       "      <td>NaN</td>\n",
       "      <td>NaN</td>\n",
       "      <td>(direct)</td>\n",
       "      <td>Organic Search</td>\n",
       "      <td>Chrome</td>\n",
       "      <td>mobile</td>\n",
       "      <td>Turkey</td>\n",
       "      <td>Istanbul</td>\n",
       "    </tr>\n",
       "    <tr>\n",
       "      <th>2</th>\n",
       "      <td>361954421372951638</td>\n",
       "      <td>1</td>\n",
       "      <td>20170205</td>\n",
       "      <td>1.0</td>\n",
       "      <td>1</td>\n",
       "      <td>1.0</td>\n",
       "      <td>NaN</td>\n",
       "      <td>NaN</td>\n",
       "      <td>NaN</td>\n",
       "      <td>(direct)</td>\n",
       "      <td>Organic Search</td>\n",
       "      <td>Chrome</td>\n",
       "      <td>desktop</td>\n",
       "      <td>Russia</td>\n",
       "      <td>Moscow</td>\n",
       "    </tr>\n",
       "    <tr>\n",
       "      <th>3</th>\n",
       "      <td>8751850432978942600</td>\n",
       "      <td>2</td>\n",
       "      <td>20170205</td>\n",
       "      <td>1.0</td>\n",
       "      <td>1</td>\n",
       "      <td>1.0</td>\n",
       "      <td>NaN</td>\n",
       "      <td>NaN</td>\n",
       "      <td>NaN</td>\n",
       "      <td>bing</td>\n",
       "      <td>Organic Search</td>\n",
       "      <td>Edge</td>\n",
       "      <td>desktop</td>\n",
       "      <td>United States</td>\n",
       "      <td>not available in demo dataset</td>\n",
       "    </tr>\n",
       "    <tr>\n",
       "      <th>4</th>\n",
       "      <td>2451058030378352110</td>\n",
       "      <td>1</td>\n",
       "      <td>20170205</td>\n",
       "      <td>1.0</td>\n",
       "      <td>1</td>\n",
       "      <td>1.0</td>\n",
       "      <td>NaN</td>\n",
       "      <td>NaN</td>\n",
       "      <td>NaN</td>\n",
       "      <td>(direct)</td>\n",
       "      <td>Organic Search</td>\n",
       "      <td>Chrome</td>\n",
       "      <td>desktop</td>\n",
       "      <td>Indonesia</td>\n",
       "      <td>not available in demo dataset</td>\n",
       "    </tr>\n",
       "  </tbody>\n",
       "</table>\n",
       "</div>"
      ],
      "text/plain": [
       "         fullVisitorID  visitNumber      date  bounces  hits  pageviews  \\\n",
       "0  8533875475515924645            1  20170205      1.0     1        1.0   \n",
       "1  4874599869430831185            2  20170205      1.0     1        1.0   \n",
       "2   361954421372951638            1  20170205      1.0     1        1.0   \n",
       "3  8751850432978942600            2  20170205      1.0     1        1.0   \n",
       "4  2451058030378352110            1  20170205      1.0     1        1.0   \n",
       "\n",
       "   timeOnSite  transactionRevenue  transactions    source channelGrouping  \\\n",
       "0         NaN                 NaN           NaN  (direct)  Organic Search   \n",
       "1         NaN                 NaN           NaN  (direct)  Organic Search   \n",
       "2         NaN                 NaN           NaN  (direct)  Organic Search   \n",
       "3         NaN                 NaN           NaN      bing  Organic Search   \n",
       "4         NaN                 NaN           NaN  (direct)  Organic Search   \n",
       "\n",
       "  browser deviceCategory        country                           city  \n",
       "0  Chrome        desktop      Australia                         Sydney  \n",
       "1  Chrome         mobile         Turkey                       Istanbul  \n",
       "2  Chrome        desktop         Russia                         Moscow  \n",
       "3    Edge        desktop  United States  not available in demo dataset  \n",
       "4  Chrome        desktop      Indonesia  not available in demo dataset  "
      ]
     },
     "execution_count": 3,
     "metadata": {},
     "output_type": "execute_result"
    }
   ],
   "source": [
    "df.head()"
   ]
  },
  {
   "cell_type": "code",
   "execution_count": 4,
   "id": "eaddb8e2",
   "metadata": {
    "execution": {
     "iopub.execute_input": "2023-02-16T03:52:08.453151Z",
     "iopub.status.busy": "2023-02-16T03:52:08.452711Z",
     "iopub.status.idle": "2023-02-16T03:52:08.460498Z",
     "shell.execute_reply": "2023-02-16T03:52:08.459415Z"
    },
    "papermill": {
     "duration": 0.020279,
     "end_time": "2023-02-16T03:52:08.463135",
     "exception": false,
     "start_time": "2023-02-16T03:52:08.442856",
     "status": "completed"
    },
    "tags": []
   },
   "outputs": [
    {
     "data": {
      "text/plain": [
       "(392892, 15)"
      ]
     },
     "execution_count": 4,
     "metadata": {},
     "output_type": "execute_result"
    }
   ],
   "source": [
    "df.shape\n"
   ]
  },
  {
   "cell_type": "code",
   "execution_count": 5,
   "id": "3a204bd2",
   "metadata": {
    "execution": {
     "iopub.execute_input": "2023-02-16T03:52:08.482801Z",
     "iopub.status.busy": "2023-02-16T03:52:08.481580Z",
     "iopub.status.idle": "2023-02-16T03:52:08.611647Z",
     "shell.execute_reply": "2023-02-16T03:52:08.610322Z"
    },
    "papermill": {
     "duration": 0.142492,
     "end_time": "2023-02-16T03:52:08.614170",
     "exception": false,
     "start_time": "2023-02-16T03:52:08.471678",
     "status": "completed"
    },
    "tags": []
   },
   "outputs": [
    {
     "data": {
      "text/plain": [
       "fullVisitorID              0\n",
       "visitNumber                0\n",
       "date                       0\n",
       "bounces               196928\n",
       "hits                       0\n",
       "pageviews                 36\n",
       "timeOnSite            196493\n",
       "transactionRevenue    387615\n",
       "transactions          387615\n",
       "source                     0\n",
       "channelGrouping            0\n",
       "browser                    0\n",
       "deviceCategory             0\n",
       "country                    0\n",
       "city                       0\n",
       "dtype: int64"
      ]
     },
     "execution_count": 5,
     "metadata": {},
     "output_type": "execute_result"
    }
   ],
   "source": [
    "df.isnull().sum()"
   ]
  },
  {
   "cell_type": "code",
   "execution_count": 6,
   "id": "ef73a253",
   "metadata": {
    "execution": {
     "iopub.execute_input": "2023-02-16T03:52:08.633660Z",
     "iopub.status.busy": "2023-02-16T03:52:08.632887Z",
     "iopub.status.idle": "2023-02-16T03:52:08.855248Z",
     "shell.execute_reply": "2023-02-16T03:52:08.854202Z"
    },
    "papermill": {
     "duration": 0.234935,
     "end_time": "2023-02-16T03:52:08.857878",
     "exception": false,
     "start_time": "2023-02-16T03:52:08.622943",
     "status": "completed"
    },
    "tags": []
   },
   "outputs": [],
   "source": [
    "#La base tiene muchos valores faltantes,cada columna parece importante por ahora, cambiamos los Nan a 0.\n",
    "#Con 0 esta bien porque todas las columnas con valores de Nan son numericas\n",
    "\n",
    "df = df.fillna(0)"
   ]
  },
  {
   "cell_type": "code",
   "execution_count": 7,
   "id": "ffd6e4c6",
   "metadata": {
    "execution": {
     "iopub.execute_input": "2023-02-16T03:52:08.876754Z",
     "iopub.status.busy": "2023-02-16T03:52:08.876367Z",
     "iopub.status.idle": "2023-02-16T03:52:09.034363Z",
     "shell.execute_reply": "2023-02-16T03:52:09.033133Z"
    },
    "papermill": {
     "duration": 0.170444,
     "end_time": "2023-02-16T03:52:09.036960",
     "exception": false,
     "start_time": "2023-02-16T03:52:08.866516",
     "status": "completed"
    },
    "tags": []
   },
   "outputs": [
    {
     "data": {
      "text/plain": [
       "0.4987731997597304"
      ]
     },
     "execution_count": 7,
     "metadata": {},
     "output_type": "execute_result"
    }
   ],
   "source": [
    "#Bounce rate =\n",
    "\n",
    "(df[df['bounces']==1]).shape[0]/(df.shape[0])"
   ]
  },
  {
   "cell_type": "code",
   "execution_count": 8,
   "id": "fe3d37b5",
   "metadata": {
    "execution": {
     "iopub.execute_input": "2023-02-16T03:52:09.057390Z",
     "iopub.status.busy": "2023-02-16T03:52:09.056959Z",
     "iopub.status.idle": "2023-02-16T03:52:10.091088Z",
     "shell.execute_reply": "2023-02-16T03:52:10.089864Z"
    },
    "papermill": {
     "duration": 1.047047,
     "end_time": "2023-02-16T03:52:10.093914",
     "exception": false,
     "start_time": "2023-02-16T03:52:09.046867",
     "status": "completed"
    },
    "tags": []
   },
   "outputs": [
    {
     "data": {
      "text/plain": [
       "<AxesSubplot:xlabel='transactionRevenue'>"
      ]
     },
     "execution_count": 8,
     "metadata": {},
     "output_type": "execute_result"
    },
    {
     "data": {
      "image/png": "[encoded data removed]",
      "text/plain": [
       "<Figure size 432x288 with 1 Axes>"
      ]
     },
     "metadata": {
      "needs_background": "light"
     },
     "output_type": "display_data"
    }
   ],
   "source": [
    "#letr intenta identificar valores atípicos\n",
    "x=df.groupby(['fullVisitorID'])['transactionRevenue'].sum().sort_values(ascending=False)\n",
    "sns.boxplot(x=x)"
   ]
  },
  {
   "cell_type": "code",
   "execution_count": 9,
   "id": "c735a398",
   "metadata": {
    "execution": {
     "iopub.execute_input": "2023-02-16T03:52:10.118531Z",
     "iopub.status.busy": "2023-02-16T03:52:10.117189Z",
     "iopub.status.idle": "2023-02-16T03:52:10.128940Z",
     "shell.execute_reply": "2023-02-16T03:52:10.126987Z"
    },
    "papermill": {
     "duration": 0.026387,
     "end_time": "2023-02-16T03:52:10.131626",
     "exception": false,
     "start_time": "2023-02-16T03:52:10.105239",
     "status": "completed"
    },
    "tags": []
   },
   "outputs": [
    {
     "data": {
      "text/plain": [
       "fullVisitorID\n",
       "1957458976293878100    126567.31\n",
       "4471415710206918415     10465.10\n",
       "9026840718082010040      7799.60\n",
       "Name: transactionRevenue, dtype: float64"
      ]
     },
     "execution_count": 9,
     "metadata": {},
     "output_type": "execute_result"
    }
   ],
   "source": [
    "x.iloc[0:3]"
   ]
  },
  {
   "cell_type": "code",
   "execution_count": 10,
   "id": "f2eaa415",
   "metadata": {
    "execution": {
     "iopub.execute_input": "2023-02-16T03:52:10.153369Z",
     "iopub.status.busy": "2023-02-16T03:52:10.152879Z",
     "iopub.status.idle": "2023-02-16T03:52:10.615350Z",
     "shell.execute_reply": "2023-02-16T03:52:10.614145Z"
    },
    "papermill": {
     "duration": 0.476739,
     "end_time": "2023-02-16T03:52:10.618168",
     "exception": false,
     "start_time": "2023-02-16T03:52:10.141429",
     "status": "completed"
    },
    "tags": []
   },
   "outputs": [
    {
     "data": {
      "image/png": "[encoded data removed]",
      "text/plain": [
       "<Figure size 1080x1800 with 1 Axes>"
      ]
     },
     "metadata": {},
     "output_type": "display_data"
    }
   ],
   "source": [
    "#Comprobando los países con la mayoría de los ingresos totales\n",
    "\n",
    "country_revenue = df.groupby(['country'])['country','transactionRevenue'].sum().reset_index()\n",
    "country_revenue = pd.DataFrame(country_revenue)\n",
    "country_revenue = country_revenue.loc[~((country_revenue['transactionRevenue'] == 0))]  \n",
    "country_revenue = country_revenue.sort_values(by=['transactionRevenue'], ascending=False)\n",
    "\n",
    "#Los 5 mejores\n",
    "\n",
    "top_5 = country_revenue[:5].copy()\n",
    "\n",
    "#otros\n",
    "\n",
    "new_row = pd.DataFrame(data = {\n",
    "    'country' : ['others'],\n",
    "    'transactionRevenue' : [country_revenue['transactionRevenue'][5:].sum()]})\n",
    "\n",
    "\n",
    "#combinando los 5 mejores con otros\n",
    "\n",
    "country_revenue = pd.concat([top_5, new_row])\n",
    "\n",
    "#plotting --\n",
    "\n",
    "country_revenue.plot(kind = 'pie',\n",
    "                     y = 'transactionRevenue',\n",
    "                     labels = country_revenue['country'],\n",
    "                     autopct='%1.0f%%',\n",
    "                     pctdistance=1.1,\n",
    "                     labeldistance=0.85,\n",
    "                     rotatelabels =True,\n",
    "                     textprops = dict(rotation_mode = 'anchor', va='center', ha='left'),\n",
    "                     figsize=(15, 25),\n",
    "                     startangle=20)\n",
    "plt.xticks(rotation=20)\n",
    "plt.show()"
   ]
  },
  {
   "cell_type": "code",
   "execution_count": 11,
   "id": "7220e5d6",
   "metadata": {
    "execution": {
     "iopub.execute_input": "2023-02-16T03:52:10.641977Z",
     "iopub.status.busy": "2023-02-16T03:52:10.641553Z",
     "iopub.status.idle": "2023-02-16T03:52:11.553232Z",
     "shell.execute_reply": "2023-02-16T03:52:11.551902Z"
    },
    "papermill": {
     "duration": 0.927121,
     "end_time": "2023-02-16T03:52:11.556256",
     "exception": false,
     "start_time": "2023-02-16T03:52:10.629135",
     "status": "completed"
    },
    "tags": []
   },
   "outputs": [
    {
     "data": {
      "image/png": "[encoded data removed]",
      "text/plain": [
       "<Figure size 432x288 with 1 Axes>"
      ]
     },
     "metadata": {
      "needs_background": "light"
     },
     "output_type": "display_data"
    }
   ],
   "source": [
    "#agrupe los datos por país.\n",
    "#calcule los ingresos totales y el número total de visitantes para cada país\n",
    "\n",
    "country_group = df.groupby('country').agg({'transactionRevenue': 'sum', 'fullVisitorID': 'nunique'})\n",
    "\n",
    "country_group = country_group.rename(columns={'transactionRevenue': 'total_revenue', 'fullVisitorID': 'total_visitors'})\n",
    "\n",
    "country_group = country_group.sort_values(by='total_revenue', ascending=False)\n",
    "\n",
    "country_group = country_group.query('total_revenue != 0')\n",
    "\n",
    "top_15 = country_group[:10].copy()\n",
    "\n",
    "top_15.plot(kind='bar', y=['total_revenue', 'total_visitors'], stacked=False)\n",
    "\n",
    "\n",
    "# set x-axis label\n",
    "plt.xlabel('Country')\n",
    "\n",
    "# set y-axis label\n",
    "plt.ylabel('Total Revenue / Total Visitors')\n",
    "\n",
    "# set title\n",
    "plt.title('Total Revenue and Total Visitors by Country')\n",
    "\n",
    "plt.semilogy()\n",
    "\n",
    "plt.subplots_adjust(bottom=0.3,right=1)\n",
    "# show plot\n",
    "plt.show()"
   ]
  },
  {
   "cell_type": "code",
   "execution_count": 12,
   "id": "0b79fb99",
   "metadata": {
    "execution": {
     "iopub.execute_input": "2023-02-16T03:52:11.580038Z",
     "iopub.status.busy": "2023-02-16T03:52:11.579022Z",
     "iopub.status.idle": "2023-02-16T03:53:01.649812Z",
     "shell.execute_reply": "2023-02-16T03:53:01.648560Z"
    },
    "papermill": {
     "duration": 50.085523,
     "end_time": "2023-02-16T03:53:01.652624",
     "exception": false,
     "start_time": "2023-02-16T03:52:11.567101",
     "status": "completed"
    },
    "tags": []
   },
   "outputs": [],
   "source": [
    "#cambiando la fecha del formato para manipularlo\n",
    "df['date']= df['date'].apply(lambda x: pd.to_datetime(str(x), format='%Y%m%d'))"
   ]
  },
  {
   "cell_type": "code",
   "execution_count": 13,
   "id": "0d6217f4",
   "metadata": {
    "execution": {
     "iopub.execute_input": "2023-02-16T03:53:01.675856Z",
     "iopub.status.busy": "2023-02-16T03:53:01.675176Z",
     "iopub.status.idle": "2023-02-16T03:53:02.427851Z",
     "shell.execute_reply": "2023-02-16T03:53:02.426530Z"
    },
    "papermill": {
     "duration": 0.767605,
     "end_time": "2023-02-16T03:53:02.430930",
     "exception": false,
     "start_time": "2023-02-16T03:53:01.663325",
     "status": "completed"
    },
    "tags": []
   },
   "outputs": [],
   "source": [
    "#ingresos mensuales\n",
    "monthly_rev = df.set_index('date').resample('M')[\"transactionRevenue\"].sum().reset_index()\n",
    "monthly_rev.head(7)\n",
    "\n",
    "#visitas mensuales\n",
    "monthly_vis = df.set_index('date').resample('M')[\"fullVisitorID\"].count().reset_index()"
   ]
  },
  {
   "cell_type": "code",
   "execution_count": 14,
   "id": "00da71f5",
   "metadata": {
    "execution": {
     "iopub.execute_input": "2023-02-16T03:53:02.453643Z",
     "iopub.status.busy": "2023-02-16T03:53:02.453226Z",
     "iopub.status.idle": "2023-02-16T03:53:02.694364Z",
     "shell.execute_reply": "2023-02-16T03:53:02.693084Z"
    },
    "papermill": {
     "duration": 0.255702,
     "end_time": "2023-02-16T03:53:02.697105",
     "exception": false,
     "start_time": "2023-02-16T03:53:02.441403",
     "status": "completed"
    },
    "tags": []
   },
   "outputs": [
    {
     "data": {
      "image/png": "[encoded data removed]",
      "text/plain": [
       "<Figure size 1440x360 with 1 Axes>"
      ]
     },
     "metadata": {
      "needs_background": "light"
     },
     "output_type": "display_data"
    }
   ],
   "source": [
    "#ingresos por trazado por mes y visitantes por mes\n",
    "\n",
    "months = [\"January\", \"February\", \"March\", \"April\", \"May\",\"June\"]\n",
    "\n",
    "plt.figure(figsize=(20,5))\n",
    "plt.xlabel(\"Months\")\n",
    "plt.ylabel(\"Total Revenue\")\n",
    "plt.plot(months, monthly_rev.loc[:,'transactionRevenue'],\"ro\",linestyle=\"solid\", color = \"orange\")\n",
    "plt.plot(months, monthly_vis.loc[:,'fullVisitorID'],\"ro\",linestyle=\"solid\", color = \"blue\")\n",
    "plt.grid(linewidth = 1)"
   ]
  },
  {
   "cell_type": "code",
   "execution_count": 15,
   "id": "078584c2",
   "metadata": {
    "execution": {
     "iopub.execute_input": "2023-02-16T03:53:02.721316Z",
     "iopub.status.busy": "2023-02-16T03:53:02.720546Z",
     "iopub.status.idle": "2023-02-16T03:53:03.951307Z",
     "shell.execute_reply": "2023-02-16T03:53:03.950260Z"
    },
    "papermill": {
     "duration": 1.245421,
     "end_time": "2023-02-16T03:53:03.953573",
     "exception": false,
     "start_time": "2023-02-16T03:53:02.708152",
     "status": "completed"
    },
    "tags": []
   },
   "outputs": [
    {
     "data": {
      "text/plain": [
       "<AxesSubplot:ylabel='channelGrouping'>"
      ]
     },
     "execution_count": 15,
     "metadata": {},
     "output_type": "execute_result"
    },
    {
     "data": {
      "image/png": "[encoded data removed]",
      "text/plain": [
       "<Figure size 1080x1800 with 1 Axes>"
      ]
     },
     "metadata": {},
     "output_type": "display_data"
    }
   ],
   "source": [
    "#el origen de las personas que terminaron convirtiéndose.\n",
    " \n",
    "# identificar usuarios para los cuales hay al menos una transacción\n",
    "\n",
    "keep = df['transactionRevenue'].ne(0).groupby(df['fullVisitorID']).any()\n",
    "\n",
    "# mantener a esos usuarios\n",
    "\n",
    "m1 = df['fullVisitorID'].isin(keep[keep].index)\n",
    "\n",
    "# verifique de dónde vinieron por primera vez\n",
    "\n",
    "m2 = df['visitNumber'].eq(1)\n",
    "\n",
    "# obtener la proporción de cada fuente\n",
    "\n",
    "grouping = df.loc[m1&m2, 'channelGrouping'].value_counts(normalize=True).reset_index()\n",
    "grouping.plot(kind = 'pie',\n",
    "              y = 'channelGrouping',\n",
    "              labels = grouping['index'],\n",
    "              autopct='%1.0f%%',\n",
    "              pctdistance=1.1,\n",
    "              labeldistance=0.75,\n",
    "              rotatelabels =True,\n",
    "              textprops = dict(rotation_mode = 'anchor', va='center', ha='left'),\n",
    "              figsize=(15, 25),\n",
    "              startangle=20)"
   ]
  },
  {
   "cell_type": "code",
   "execution_count": 16,
   "id": "8c62fb6b",
   "metadata": {
    "execution": {
     "iopub.execute_input": "2023-02-16T03:53:03.980303Z",
     "iopub.status.busy": "2023-02-16T03:53:03.979852Z",
     "iopub.status.idle": "2023-02-16T03:53:04.333957Z",
     "shell.execute_reply": "2023-02-16T03:53:04.332603Z"
    },
    "papermill": {
     "duration": 0.370588,
     "end_time": "2023-02-16T03:53:04.336652",
     "exception": false,
     "start_time": "2023-02-16T03:53:03.966064",
     "status": "completed"
    },
    "tags": []
   },
   "outputs": [
    {
     "data": {
      "text/plain": [
       "<AxesSubplot:xlabel='visitNumber', ylabel='amount of transactions'>"
      ]
     },
     "execution_count": 16,
     "metadata": {},
     "output_type": "execute_result"
    },
    {
     "data": {
      "image/png": "[encoded data removed]",
      "text/plain": [
       "<Figure size 1440x360 with 1 Axes>"
      ]
     },
     "metadata": {
      "needs_background": "light"
     },
     "output_type": "display_data"
    }
   ],
   "source": [
    "# ¿Existe alguna relación entre el número de visita y la conversión??\n",
    "cond_1 = df['transactionRevenue'].ne(0)\n",
    "m2 = df.loc[cond_1, ['visitNumber']].groupby(['visitNumber']).size().reset_index(name='amount of transactions')\n",
    "\n",
    "#plotting\n",
    "\n",
    "m2['visitNumber'] = m2['visitNumber'].astype(int)\n",
    "m2 = m2.loc[m2['visitNumber'] <= 20]\n",
    "plt.figure(figsize=(20,5))\n",
    "sns.barplot(x=m2['visitNumber'], y=m2['amount of transactions'])"
   ]
  },
  {
   "cell_type": "code",
   "execution_count": 17,
   "id": "a07e0746",
   "metadata": {
    "execution": {
     "iopub.execute_input": "2023-02-16T03:53:04.364916Z",
     "iopub.status.busy": "2023-02-16T03:53:04.364515Z",
     "iopub.status.idle": "2023-02-16T03:53:04.396082Z",
     "shell.execute_reply": "2023-02-16T03:53:04.394900Z"
    },
    "papermill": {
     "duration": 0.049489,
     "end_time": "2023-02-16T03:53:04.398925",
     "exception": false,
     "start_time": "2023-02-16T03:53:04.349436",
     "status": "completed"
    },
    "tags": []
   },
   "outputs": [],
   "source": [
    "# Dejaré afuera las columnas que creo no ayudarán a predecir si un cliente se convertirá o no.\n",
    "df2 = df\n",
    "df2 = df2.drop(['fullVisitorID','date','transactionRevenue'], axis=1)"
   ]
  },
  {
   "cell_type": "code",
   "execution_count": 18,
   "id": "e93539bc",
   "metadata": {
    "execution": {
     "iopub.execute_input": "2023-02-16T03:53:04.427079Z",
     "iopub.status.busy": "2023-02-16T03:53:04.425844Z",
     "iopub.status.idle": "2023-02-16T03:53:04.782648Z",
     "shell.execute_reply": "2023-02-16T03:53:04.781349Z"
    },
    "papermill": {
     "duration": 0.373559,
     "end_time": "2023-02-16T03:53:04.785355",
     "exception": false,
     "start_time": "2023-02-16T03:53:04.411796",
     "status": "completed"
    },
    "tags": []
   },
   "outputs": [
    {
     "data": {
      "image/png": "[encoded data removed]",
      "text/plain": [
       "<Figure size 648x432 with 2 Axes>"
      ]
     },
     "metadata": {
      "needs_background": "light"
     },
     "output_type": "display_data"
    }
   ],
   "source": [
    "# Matriz de correlación (estilo de mapa de calor)\n",
    "corrmat = df2.corr()\n",
    "f, ax = plt.subplots(figsize=(9,6))\n",
    "sns.heatmap(corrmat, vmax=.8, square=True);"
   ]
  },
  {
   "cell_type": "code",
   "execution_count": 19,
   "id": "082900af",
   "metadata": {
    "execution": {
     "iopub.execute_input": "2023-02-16T03:53:04.814026Z",
     "iopub.status.busy": "2023-02-16T03:53:04.813216Z",
     "iopub.status.idle": "2023-02-16T03:53:04.856518Z",
     "shell.execute_reply": "2023-02-16T03:53:04.855602Z"
    },
    "papermill": {
     "duration": 0.060385,
     "end_time": "2023-02-16T03:53:04.859016",
     "exception": false,
     "start_time": "2023-02-16T03:53:04.798631",
     "status": "completed"
    },
    "tags": []
   },
   "outputs": [],
   "source": [
    "# Si vemos los datos relacionados con la página,\n",
    "#podemos concluir que dan casi la misma información para que realmente ocurra la multicolinealidad\n",
    " \n",
    "# Así que conservemos uno de esos\n",
    "\n",
    "df2 = df2.drop(['pageviews'], axis=1)"
   ]
  },
  {
   "cell_type": "code",
   "execution_count": 20,
   "id": "79d6bb32",
   "metadata": {
    "execution": {
     "iopub.execute_input": "2023-02-16T03:53:04.887178Z",
     "iopub.status.busy": "2023-02-16T03:53:04.886208Z",
     "iopub.status.idle": "2023-02-16T03:53:10.403258Z",
     "shell.execute_reply": "2023-02-16T03:53:10.401851Z"
    },
    "papermill": {
     "duration": 5.534287,
     "end_time": "2023-02-16T03:53:10.406220",
     "exception": false,
     "start_time": "2023-02-16T03:53:04.871933",
     "status": "completed"
    },
    "tags": []
   },
   "outputs": [
    {
     "name": "stdout",
     "output_type": "stream",
     "text": [
      "164\n"
     ]
    }
   ],
   "source": [
    "# tenemos que convertir variables categóricas en números. LabelEncoder no parece ser la mejor solución\n",
    "# procesar estas variables categóricas ya que pone un orden y una jerarquía\n",
    " # entre las categorías que no son propias de los datos.\n",
    "\n",
    "# Así que voy a usar Hot Encoding.\n",
    "\n",
    "\n",
    "# Pero antes de usar la codificación Hot quiero agrupar a todos los países que no realizaron ninguna transacción.\n",
    "\n",
    "# grupo por país y transacciones de suma\n",
    "grouped = df2.groupby('country')['transactions'].sum()\n",
    "grouped.head()\n",
    "how_many=0\n",
    "for index, row in grouped.iteritems():\n",
    "    # check if the sum of transactions is 0\n",
    "    if row == 0:\n",
    "        how_many+=1\n",
    "        # replace the country name with \"Others\" in the original dataframe\n",
    "        df2.loc[df['country'] == index, 'country'] = \"Others\"\n",
    "        \n",
    "print(how_many)"
   ]
  },
  {
   "cell_type": "code",
   "execution_count": 21,
   "id": "89a44854",
   "metadata": {
    "execution": {
     "iopub.execute_input": "2023-02-16T03:53:10.434912Z",
     "iopub.status.busy": "2023-02-16T03:53:10.434079Z",
     "iopub.status.idle": "2023-02-16T03:53:10.439239Z",
     "shell.execute_reply": "2023-02-16T03:53:10.438118Z"
    },
    "papermill": {
     "duration": 0.02222,
     "end_time": "2023-02-16T03:53:10.441781",
     "exception": false,
     "start_time": "2023-02-16T03:53:10.419561",
     "status": "completed"
    },
    "tags": []
   },
   "outputs": [],
   "source": [
    "# Hubo 164 países que no han realizado ninguna transacción."
   ]
  },
  {
   "cell_type": "code",
   "execution_count": 22,
   "id": "226c9d3b",
   "metadata": {
    "execution": {
     "iopub.execute_input": "2023-02-16T03:53:10.470288Z",
     "iopub.status.busy": "2023-02-16T03:53:10.469536Z",
     "iopub.status.idle": "2023-02-16T03:53:27.598472Z",
     "shell.execute_reply": "2023-02-16T03:53:27.597167Z"
    },
    "papermill": {
     "duration": 17.146115,
     "end_time": "2023-02-16T03:53:27.601381",
     "exception": false,
     "start_time": "2023-02-16T03:53:10.455266",
     "status": "completed"
    },
    "tags": []
   },
   "outputs": [],
   "source": [
    "from sklearn.preprocessing import OneHotEncoder\n",
    "\n",
    "# create a one-hot encoder\n",
    "encoder = OneHotEncoder(sparse=False)\n",
    "\n",
    "for i in [\"country\",\"channelGrouping\",\"browser\",\"deviceCategory\",\"city\",\"source\"]:\n",
    "    i_onehot = encoder.fit_transform(df2[[i]])\n",
    "    i_df = pd.DataFrame(i_onehot, columns=encoder.get_feature_names([i]))\n",
    "    i_df.head()\n",
    "    df2 = df2.join(i_df)\n",
    "    df2 = df2.drop([i], axis=1) \n",
    "    #drop the column\n",
    "    "
   ]
  },
  {
   "cell_type": "code",
   "execution_count": 23,
   "id": "399874ab",
   "metadata": {
    "execution": {
     "iopub.execute_input": "2023-02-16T03:53:27.629433Z",
     "iopub.status.busy": "2023-02-16T03:53:27.628989Z",
     "iopub.status.idle": "2023-02-16T03:53:27.636254Z",
     "shell.execute_reply": "2023-02-16T03:53:27.635220Z"
    },
    "papermill": {
     "duration": 0.024038,
     "end_time": "2023-02-16T03:53:27.638828",
     "exception": false,
     "start_time": "2023-02-16T03:53:27.614790",
     "status": "completed"
    },
    "tags": []
   },
   "outputs": [
    {
     "data": {
      "text/plain": [
       "(392892, 731)"
      ]
     },
     "execution_count": 23,
     "metadata": {},
     "output_type": "execute_result"
    }
   ],
   "source": [
    "df2.shape\n"
   ]
  },
  {
   "cell_type": "code",
   "execution_count": 24,
   "id": "46fec3a6",
   "metadata": {
    "execution": {
     "iopub.execute_input": "2023-02-16T03:53:27.667093Z",
     "iopub.status.busy": "2023-02-16T03:53:27.666559Z",
     "iopub.status.idle": "2023-02-16T03:53:28.535075Z",
     "shell.execute_reply": "2023-02-16T03:53:28.533815Z"
    },
    "papermill": {
     "duration": 0.885782,
     "end_time": "2023-02-16T03:53:28.537825",
     "exception": false,
     "start_time": "2023-02-16T03:53:27.652043",
     "status": "completed"
    },
    "tags": []
   },
   "outputs": [],
   "source": [
    "#la columna de transacciones será mi y, por lo que debe ser binaria, más de 1 transacción: Verdadero, de lo contrario falso.\n",
    "df2['transactions']=df2['transactions'].apply(lambda x: 1 if x!=0 else 0)"
   ]
  },
  {
   "cell_type": "code",
   "execution_count": 25,
   "id": "0f116a13",
   "metadata": {
    "execution": {
     "iopub.execute_input": "2023-02-16T03:53:28.566121Z",
     "iopub.status.busy": "2023-02-16T03:53:28.565655Z",
     "iopub.status.idle": "2023-02-16T03:53:29.250843Z",
     "shell.execute_reply": "2023-02-16T03:53:29.249363Z"
    },
    "papermill": {
     "duration": 0.702396,
     "end_time": "2023-02-16T03:53:29.253540",
     "exception": false,
     "start_time": "2023-02-16T03:53:28.551144",
     "status": "completed"
    },
    "tags": []
   },
   "outputs": [],
   "source": [
    "#mi X e y\n",
    "X = df2.loc[:, df2.columns != 'transactions']\n",
    "y = df2['transactions']"
   ]
  },
  {
   "cell_type": "markdown",
   "id": "2a45b12a",
   "metadata": {
    "papermill": {
     "duration": 0.013099,
     "end_time": "2023-02-16T03:53:29.279906",
     "exception": false,
     "start_time": "2023-02-16T03:53:29.266807",
     "status": "completed"
    },
    "tags": []
   },
   "source": [
    "# He decidido usar un algoritmo forest estándar para modelar mi predictor.\n",
    "# El forest aleatorio es un algoritmo ideal para lidiar con el desequilibrio extremo debido a dos razones principales. En primer lugar, la capacidad de incorporar pesos de clase. En segundo lugar, combina la técnica de muestreo y el aprendizaje de conjunto, por lo tanto, minimiza la clase mayoritaria y proporciona un conjunto de datos más equilibrado."
   ]
  },
  {
   "cell_type": "code",
   "execution_count": 26,
   "id": "dd1e22c6",
   "metadata": {
    "execution": {
     "iopub.execute_input": "2023-02-16T03:53:29.308598Z",
     "iopub.status.busy": "2023-02-16T03:53:29.307801Z",
     "iopub.status.idle": "2023-02-16T03:53:57.181187Z",
     "shell.execute_reply": "2023-02-16T03:53:57.179882Z"
    },
    "papermill": {
     "duration": 27.890819,
     "end_time": "2023-02-16T03:53:57.183990",
     "exception": false,
     "start_time": "2023-02-16T03:53:29.293171",
     "status": "completed"
    },
    "tags": []
   },
   "outputs": [],
   "source": [
    "#Es importante cuidar el desequilibrio del conjunto de datos: SMOTE utiliza una clase minoritaria para generar muestras sintéticas.\n",
    "#En consecuencia, supera el problema de exceso de equipamiento planteado por un sobremuestreo aleatorio.\n",
    "\n",
    "oversample = SMOTE()\n",
    "over_X, over_y = oversample.fit_resample(X, y)\n",
    "over_X_train, over_X_test, over_y_train, over_y_test = train_test_split(over_X, over_y,\n",
    "                                                                        test_size=0.1, stratify=over_y)"
   ]
  },
  {
   "cell_type": "code",
   "execution_count": 27,
   "id": "711e4171",
   "metadata": {
    "execution": {
     "iopub.execute_input": "2023-02-16T03:53:57.211978Z",
     "iopub.status.busy": "2023-02-16T03:53:57.211588Z",
     "iopub.status.idle": "2023-02-16T03:53:57.216813Z",
     "shell.execute_reply": "2023-02-16T03:53:57.215608Z"
    },
    "papermill": {
     "duration": 0.022334,
     "end_time": "2023-02-16T03:53:57.219367",
     "exception": false,
     "start_time": "2023-02-16T03:53:57.197033",
     "status": "completed"
    },
    "tags": []
   },
   "outputs": [],
   "source": [
    "#Construir el modelo SMOTE SRF\n",
    "\n",
    "SMOTE_SRF = RandomForestClassifier(n_estimators=225, random_state=0)"
   ]
  },
  {
   "cell_type": "code",
   "execution_count": 28,
   "id": "edfdc490",
   "metadata": {
    "execution": {
     "iopub.execute_input": "2023-02-16T03:53:57.248608Z",
     "iopub.status.busy": "2023-02-16T03:53:57.247551Z",
     "iopub.status.idle": "2023-02-16T03:54:00.313735Z",
     "shell.execute_reply": "2023-02-16T03:54:00.311733Z"
    },
    "papermill": {
     "duration": 3.084946,
     "end_time": "2023-02-16T03:54:00.317760",
     "exception": false,
     "start_time": "2023-02-16T03:53:57.232814",
     "status": "completed"
    },
    "tags": []
   },
   "outputs": [],
   "source": [
    "# Conjunto de datos derramado al azar para probar y entrenar\n",
    "X_train, X_test, y_train, y_test = train_test_split(X, y, test_size=0.1, stratify=y)"
   ]
  },
  {
   "cell_type": "code",
   "execution_count": 29,
   "id": "e144f968",
   "metadata": {
    "execution": {
     "iopub.execute_input": "2023-02-16T03:54:00.348856Z",
     "iopub.status.busy": "2023-02-16T03:54:00.348421Z",
     "iopub.status.idle": "2023-02-16T04:09:08.509988Z",
     "shell.execute_reply": "2023-02-16T04:09:08.508432Z"
    },
    "papermill": {
     "duration": 908.197984,
     "end_time": "2023-02-16T04:09:08.529857",
     "exception": false,
     "start_time": "2023-02-16T03:54:00.331873",
     "status": "completed"
    },
    "tags": []
   },
   "outputs": [
    {
     "data": {
      "text/plain": [
       "RandomForestClassifier(n_estimators=225, random_state=0)"
      ]
     },
     "execution_count": 29,
     "metadata": {},
     "output_type": "execute_result"
    }
   ],
   "source": [
    "#Train SMOTE SRF\n",
    "\n",
    "SMOTE_SRF.fit(over_X_train, over_y_train)"
   ]
  },
  {
   "cell_type": "code",
   "execution_count": 30,
   "id": "de19767b",
   "metadata": {
    "execution": {
     "iopub.execute_input": "2023-02-16T04:09:08.558638Z",
     "iopub.status.busy": "2023-02-16T04:09:08.558208Z",
     "iopub.status.idle": "2023-02-16T04:09:11.328109Z",
     "shell.execute_reply": "2023-02-16T04:09:11.327058Z"
    },
    "papermill": {
     "duration": 2.788417,
     "end_time": "2023-02-16T04:09:11.331451",
     "exception": false,
     "start_time": "2023-02-16T04:09:08.543034",
     "status": "completed"
    },
    "tags": []
   },
   "outputs": [],
   "source": [
    "#SMOTE SRF resultado de predicción\n",
    "y_pred = SMOTE_SRF.predict(X_test)"
   ]
  },
  {
   "cell_type": "code",
   "execution_count": 31,
   "id": "d1593d12",
   "metadata": {
    "execution": {
     "iopub.execute_input": "2023-02-16T04:09:11.359735Z",
     "iopub.status.busy": "2023-02-16T04:09:11.359326Z",
     "iopub.status.idle": "2023-02-16T04:09:14.299500Z",
     "shell.execute_reply": "2023-02-16T04:09:14.298354Z"
    },
    "papermill": {
     "duration": 2.957082,
     "end_time": "2023-02-16T04:09:14.301952",
     "exception": false,
     "start_time": "2023-02-16T04:09:11.344870",
     "status": "completed"
    },
    "tags": []
   },
   "outputs": [
    {
     "data": {
      "image/png": "[encoded data removed]",
      "text/plain": [
       "<Figure size 432x288 with 2 Axes>"
      ]
     },
     "metadata": {
      "needs_background": "light"
     },
     "output_type": "display_data"
    }
   ],
   "source": [
    "#Crear matriz de confusión\n",
    "fig = plot_confusion_matrix(SMOTE_SRF, X_test, y_test, display_labels=['Wont convert', 'Will convert'], cmap='Greens')\n",
    "plt.title('SMOTE + Random Forest Confusion Matrix')\n",
    "plt.show()"
   ]
  },
  {
   "cell_type": "code",
   "execution_count": 32,
   "id": "76e3f116",
   "metadata": {
    "execution": {
     "iopub.execute_input": "2023-02-16T04:09:14.332683Z",
     "iopub.status.busy": "2023-02-16T04:09:14.332277Z",
     "iopub.status.idle": "2023-02-16T04:09:14.370679Z",
     "shell.execute_reply": "2023-02-16T04:09:14.369254Z"
    },
    "papermill": {
     "duration": 0.055856,
     "end_time": "2023-02-16T04:09:14.373222",
     "exception": false,
     "start_time": "2023-02-16T04:09:14.317366",
     "status": "completed"
    },
    "tags": []
   },
   "outputs": [
    {
     "name": "stdout",
     "output_type": "stream",
     "text": [
      "Accuracy score: 0.9986001527106134\n",
      "Precision score: 0.9628180039138943\n",
      "Recall score: 0.9318181818181818\n"
     ]
    }
   ],
   "source": [
    "accuracy = metrics.accuracy_score(y_test, y_pred) \n",
    "print(\"Accuracy score:\",accuracy)\n",
    "precision = metrics.precision_score(y_test, y_pred)\n",
    "print(\"Precision score:\",precision)\n",
    "recall = metrics.recall_score(y_test, y_pred) \n",
    "print(\"Recall score:\",recall)"
   ]
  }
 ],
 "metadata": {
  "kernelspec": {
   "display_name": "Python 3",
   "language": "python",
   "name": "python3"
  },
  "language_info": {
   "codemirror_mode": {
    "name": "ipython",
    "version": 3
   },
   "file_extension": ".py",
   "mimetype": "text/x-python",
   "name": "python",
   "nbconvert_exporter": "python",
   "pygments_lexer": "ipython3",
   "version": "3.7.12"
  },
  "papermill": {
   "default_parameters": {},
   "duration": 1040.287455,
   "end_time": "2023-02-16T04:09:15.817899",
   "environment_variables": {},
   "exception": null,
   "input_path": "__notebook__.ipynb",
   "output_path": "__notebook__.ipynb",
   "parameters": {},
   "start_time": "2023-02-16T03:51:55.530444",
   "version": "2.3.4"
  }
 },
 "nbformat": 4,
 "nbformat_minor": 5
}
